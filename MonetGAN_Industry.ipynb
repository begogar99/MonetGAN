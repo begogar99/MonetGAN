version https://git-lfs.github.com/spec/v1
oid sha256:4067a2b0e4b72e27e3b026d3c1c5b336fbf88d6cb086c61fc343f8a540c88dab
size 42581855
