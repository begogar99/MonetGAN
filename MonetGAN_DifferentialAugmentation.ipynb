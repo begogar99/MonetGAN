version https://git-lfs.github.com/spec/v1
oid sha256:5a992bf711e77c29856a9c7395f77c3adbe108f7d4a256c3e12a2a346c353079
size 42450497
